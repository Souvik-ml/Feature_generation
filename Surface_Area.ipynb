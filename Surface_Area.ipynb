{
  "nbformat": 4,
  "nbformat_minor": 0,
  "metadata": {
    "colab": {
      "provenance": []
    },
    "kernelspec": {
      "name": "python3",
      "display_name": "Python 3"
    },
    "language_info": {
      "name": "python"
    }
  },
  "cells": [
    {
      "cell_type": "code",
      "execution_count": null,
      "metadata": {
        "id": "_P7HQtk4mElS"
      },
      "outputs": [],
      "source": [
        "import math\n",
        "from math import sqrt\n",
        "import os\n",
        "\n",
        "def surface_area(file_name):\n",
        "  with open(file_name) as file:\n",
        "    lines = file.readlines()\n",
        "\n",
        "  a_lat = list(map(float, lines[2].split()))\n",
        "  a = sqrt(sum([i ** 2 for i in a_lat]))\n",
        "  b_lat = list(map(float, lines[3].split()))\n",
        "  b = sqrt(sum([i ** 2 for i in b_lat]))\n",
        "  c = sqrt((a_lat[0]-b_lat[0])**2+(a_lat[1]-b_lat[1])**2+(a_lat[2]-b_lat[2])**2)\n",
        "  cosine_angle = (a**2 + b**2 - c**2) / (2 * a * b)\n",
        "\n",
        "  # Calculate the angle in radians\n",
        "  angle_rad = math.acos(cosine_angle)\n",
        "\n",
        "  # Convert the angle to degrees\n",
        "  gamma = math.degrees(angle_rad)\n",
        "  area = a*b*math.sin(gamma)\n",
        "  return area\n",
        "\n",
        "\n",
        "import pandas as pd\n",
        "directory = \"/home/souvik/MXene/files/car_SCN\"\n",
        "data = []\n",
        "for filename in os.listdir(directory):\n",
        "    file_path = os.path.join(directory, filename)\n",
        "    if os.path.isfile(file_path):  # Check if it's a file\n",
        "        surface_area_value = surface_area(file_path)\n",
        "        data.append((filename, surface_area_value))\n",
        "\n",
        "# Create a DataFrame from the data list\n",
        "df = pd.DataFrame(data, columns=[\"Filename\", \"Surface Area\"])\n",
        "\n",
        "df.to_excel('SCN_surface_area.xlsx')"
      ]
    }
  ]
}