{
  "nbformat": 4,
  "nbformat_minor": 0,
  "metadata": {
    "colab": {
      "provenance": []
    },
    "kernelspec": {
      "name": "python3",
      "display_name": "Python 3"
    },
    "language_info": {
      "name": "python"
    }
  },
  "cells": [
    {
      "cell_type": "code",
      "execution_count": 19,
      "metadata": {
        "id": "wbmY2ZODV4yq"
      },
      "outputs": [],
      "source": [
        "import os\n",
        "import numpy as np\n",
        "def direct_to_cartesian(file_path):\n",
        "  # read the poscar file\n",
        "  with open(file_path, 'r') as file:\n",
        "    lines = file.readlines()\n",
        "\n",
        "  # extract the lattice vectors\n",
        "  lattice_vectors = [list(map(float, lines[i].split())) for i in range(2,5)]\n",
        "\n",
        "\n",
        "  # extract the atomic symbols\n",
        "  atomic_symbols = lines[5].split()\n",
        "\n",
        "  # extract the number of atoms\n",
        "  number_of_atoms = [list(map(float, lines[6].split()))]\n",
        "\n",
        "  # calculate the total number of atoms\n",
        "  total_atoms = int(sum(number_of_atoms[0]))\n",
        "\n",
        "  # extract the atomic positions\n",
        "  atomic_positions = [list(map(float, line.split())) for line in lines[8:8+total_atoms]]\n",
        "\n",
        "  '''convert the fractional coordinate to direct coordinate\n",
        "  by dot product or by matrix multiplication between atomic_postions\n",
        "  and lattice_vectors'''\n",
        "\n",
        "  car_coordinates = np.dot(atomic_positions, lattice_vectors)\n",
        "\n",
        "\n",
        "  # Generate the new POSCAR filename\n",
        "  filename = os.path.basename(file_path)\n",
        "  new_filename = \"car_\" + filename\n",
        "\n",
        "\n",
        "  # write the new Cartesian format POSCAR\n",
        "  with open(os.path.join(output_directory, new_filename), 'w') as file:\n",
        "     file.writelines(lines[:7]) # copy the header lines from the direct POSCAR\n",
        "     file.write(\"Cartesian\\n\") # specify the coordinate system\n",
        "     for tnm, coords in zip([i for i in range(total_atoms)], car_coordinates):\n",
        "      line = \"{:.8f} {:.8f} {:.8f}\\n\".format(*coords)\n",
        "      file.write(line)\n",
        "\n",
        "  print(\"Converted '{}' to Cartesian format and saved as '{}'\".format(filename, new_filename))"
      ]
    },
    {
      "cell_type": "code",
      "source": [
        "input_directory = '/content/Direct'\n",
        "output_directory = '/content/Cartesian'"
      ],
      "metadata": {
        "id": "JhGibr4LWCGM"
      },
      "execution_count": 20,
      "outputs": []
    },
    {
      "cell_type": "code",
      "source": [
        "for filename in os.listdir(input_directory):\n",
        "  file_path = os.path.join(input_directory, filename)\n",
        "  direct_to_cartesian(file_path)"
      ],
      "metadata": {
        "colab": {
          "base_uri": "https://localhost:8080/"
        },
        "id": "BvEuVBJPXbjq",
        "outputId": "74524ce6-0e8c-4d05-fd8b-d13b2fc376e2"
      },
      "execution_count": 21,
      "outputs": [
        {
          "output_type": "stream",
          "name": "stdout",
          "text": [
            "Converted 'relax_POSCAR_Cr-W-C-Br-Br' to Cartesian format and saved as 'car_relax_POSCAR_Cr-W-C-Br-Br'\n",
            "Converted 'relax_POSCAR_Cr-Mo-N-Br-Br' to Cartesian format and saved as 'car_relax_POSCAR_Cr-Mo-N-Br-Br'\n",
            "Converted 'relax_POSCAR_Cr-Cr-N-Br-Br' to Cartesian format and saved as 'car_relax_POSCAR_Cr-Cr-N-Br-Br'\n",
            "Converted 'relax_POSCAR_Cr-Mo-C-Br-Br' to Cartesian format and saved as 'car_relax_POSCAR_Cr-Mo-C-Br-Br'\n"
          ]
        }
      ]
    },
    {
      "cell_type": "code",
      "source": [],
      "metadata": {
        "id": "CXPc8HunXe6a"
      },
      "execution_count": null,
      "outputs": []
    }
  ]
}